{
 "cells": [
  {
   "cell_type": "code",
   "id": "initial_id",
   "metadata": {
    "collapsed": true,
    "ExecuteTime": {
     "end_time": "2025-02-10T12:40:28.058916Z",
     "start_time": "2025-02-10T12:40:28.027418Z"
    }
   },
   "source": [
    "import itertools\n",
    "\n",
    "def generate_pauli_errors(N, M):\n",
    "    # 所有可能的Pauli算符（不包括I）\n",
    "    pauli_ops = ['X', 'Y', 'Z']\n",
    "\n",
    "    # 存储所有错误组合的列表\n",
    "    pauli_error_list = []\n",
    "\n",
    "    # 生成所有可能的位置组合\n",
    "    positions = list(itertools.combinations(range(N), M))\n",
    "\n",
    "    for pos in positions:\n",
    "        # 生成每个位置上可能的Pauli算符组合\n",
    "        for ops in itertools.product(pauli_ops, repeat=M):\n",
    "            # 初始化一个错误组合，所有位置默认为I\n",
    "            error_ops = ['I'] * N\n",
    "            # 将错误算符填入对应位置\n",
    "            for i, op in zip(pos, ops):\n",
    "                error_ops[i] = op\n",
    "            # 将错误组合添加到列表中\n",
    "            pauli_error_list.append(''.join(error_ops))\n",
    "\n",
    "    return pauli_error_list\n",
    "\n",
    "\n",
    "# 示例调用\n",
    "N = 2  # 3 qubits\n",
    "M = 2  # 2 qubits有错误\n",
    "pauli_error_list = generate_pauli_errors(N, M)\n",
    "print(\"所有错误的组合：\")\n",
    "for error in pauli_error_list:\n",
    "    print(error)"
   ],
   "outputs": [
    {
     "name": "stdout",
     "output_type": "stream",
     "text": [
      "所有错误的组合：\n",
      "XX\n",
      "XY\n",
      "XZ\n",
      "YX\n",
      "YY\n",
      "YZ\n",
      "ZX\n",
      "ZY\n",
      "ZZ\n"
     ]
    }
   ],
   "execution_count": 6
  },
  {
   "metadata": {},
   "cell_type": "code",
   "outputs": [],
   "execution_count": null,
   "source": [
    "import numpy as np\n",
    "from qutip import sigmax, sigmay, sigmaz, identity\n",
    "\n",
    "# 定义Pauli矩阵\n",
    "sigma_x = sigmax().full()\n",
    "sigma_y = sigmay().full()\n",
    "sigma_z = sigmaz().full()\n",
    "I = identity(2).full()\n",
    "\n",
    "# Pauli基\n",
    "pauli_matrices = [I, sigma_x, sigma_y, sigma_z]\n",
    "\n",
    "\n",
    "# 计算Pauli算符的乘积形式\n",
    "def decompose_two_body_operator(H):\n",
    "    terms = []\n",
    "\n",
    "    for i in range(4):\n",
    "        for j in range(4):\n",
    "            # 构建一个Pauli算符的乘积\n",
    "            pauli_product = np.kron(pauli_matrices[i], pauli_matrices[j])\n",
    "\n",
    "            # 计算这个Pauli乘积与原算符的内积\n",
    "            coeff = (np.trace((H @ pauli_product)) / 4)  # 除以4是因为Pauli矩阵的正交归一性\n",
    "\n",
    "            if coeff != 0:\n",
    "                terms.append((coeff,pauli_matrices[i],pauli_matrices[j]))\n",
    "\n",
    "    return terms\n",
    "\n",
    "\n",
    "\n",
    "\n",
    "\n",
    "if __name__ == \"__main__\":\n",
    "    # 例子：构建一个任意两体算符\n",
    "    H_example = np.array([[1, 0,0,0],[0,1,0,0],[0,0,1,0],[0,0,0,-1]])\n",
    "\n",
    "    # 分解并打印结果\n",
    "    decomposed_terms = decompose_two_body_operator(H_example)\n",
    "    for term in decomposed_terms:\n",
    "        print(term)\n",
    "    H_reconstructed = 0\n",
    "    for i in range(len(decomposed_terms)):\n",
    "        coeff, pauli_i, pauli_j=decomposed_terms[i]\n",
    "        H_reconstructed += coeff * np.kron(pauli_i, pauli_j)\n",
    "    print(H_reconstructed)\n"
   ],
   "id": "dac06cc6e91ef8fc"
  },
  {
   "metadata": {
    "ExecuteTime": {
     "end_time": "2025-02-11T09:24:22.300545Z",
     "start_time": "2025-02-11T09:24:22.238689Z"
    }
   },
   "cell_type": "code",
   "source": [
    "    from qutip import *\n",
    "\n",
    "    def gamma(index):\n",
    "        return fcreate(7,index)+fdestroy(7,index)\n",
    "    def gamma_prem(index):\n",
    "        return 1j*(-fcreate(7,index)+fdestroy(7,index))\n",
    "    G_0=gamma(3)*gamma(4)*gamma(5)*gamma(6)\n",
    "    G_2=gamma(0)*gamma(2)*gamma(4)*gamma_prem(6)\n",
    "    print((G_0*G_2-G_2*G_0).norm())"
   ],
   "id": "839cabea5cc287ca",
   "outputs": [
    {
     "name": "stdout",
     "output_type": "stream",
     "text": [
      "256.0\n"
     ]
    }
   ],
   "execution_count": 8
  }
 ],
 "metadata": {
  "kernelspec": {
   "display_name": "Python 3",
   "language": "python",
   "name": "python3"
  },
  "language_info": {
   "codemirror_mode": {
    "name": "ipython",
    "version": 2
   },
   "file_extension": ".py",
   "mimetype": "text/x-python",
   "name": "python",
   "nbconvert_exporter": "python",
   "pygments_lexer": "ipython2",
   "version": "2.7.6"
  }
 },
 "nbformat": 4,
 "nbformat_minor": 5
}
