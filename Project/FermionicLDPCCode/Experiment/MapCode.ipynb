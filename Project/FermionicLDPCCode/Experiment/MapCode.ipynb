{
 "cells": [
  {
   "cell_type": "code",
   "id": "initial_id",
   "metadata": {
    "collapsed": true,
    "ExecuteTime": {
     "end_time": "2025-02-17T02:01:14.789477Z",
     "start_time": "2025-02-17T02:01:11.654470Z"
    }
   },
   "source": [
    "from Project.FermionicLDPCCode.Main.MapChain import map_chain\n",
    "from QuantumComputation.ErrorCorrectionCode.PauliStabilizerCode.PauliOperator import PauliOperator\n",
    "from QuantumComputation.ErrorCorrectionCode.PauliStabilizerCode.PauliStabilizerCode import PauliStabilizerCode\n",
    "\n",
    "pauli_code = PauliStabilizerCode(5)\n",
    "pauli_code.push(PauliOperator(1,['X', 'Z', 'Z', 'X', 'I']))\n",
    "pauli_code.push(PauliOperator(1,['I', 'X', 'Z', 'Z', 'X']))\n",
    "pauli_code.push(PauliOperator(1,['X', 'I', 'X', 'Z', 'Z']))\n",
    "pauli_code.push(PauliOperator(1,['Z', 'X', 'I', 'X', 'Z']))\n",
    "\n",
    "map_chain(pauli_code)"
   ],
   "outputs": [
    {
     "name": "stdout",
     "output_type": "stream",
     "text": [
      "当前代码是：Pauli code\n",
      "它的纠错距离是：1\n",
      "它的物理比特数是：5\n",
      "它的逻辑比特数是：1\n",
      "\n",
      "当前代码是：Majorana code\n",
      "它的纠错距离是：2\n",
      "它的物理比特数是：10\n",
      "它的逻辑比特数是：1\n",
      "\n",
      "当前代码是：CSS code\n",
      "它的纠错距离是：2\n",
      "它的物理比特数是：20\n",
      "它的逻辑比特数是：2\n",
      "\n",
      "当前代码是：Fermionic code\n",
      "它的纠错距离是：2\n",
      "它的物理比特数是：20\n",
      "它的逻辑比特数是：2\n",
      "\n"
     ]
    }
   ],
   "execution_count": 1
  },
  {
   "metadata": {
    "ExecuteTime": {
     "end_time": "2025-02-14T13:18:02.577305Z",
     "start_time": "2025-02-14T13:18:02.567304Z"
    }
   },
   "cell_type": "code",
   "source": [
    "from Project.FermionicLDPCCode.Map.Css2Fermi import css2fermi\n",
    "from QuantumComputation.ErrorCorrectionCode.PauliStabilizerCode.PauliStabilizerCode import PauliStabilizerCode\n",
    "\n",
    "\n",
    "pauli_code = PauliStabilizerCode(7)\n",
    "pauli_code.push(PauliOperator(1,['I', 'I', 'I', 'X', 'X','X','X']))\n",
    "pauli_code.push(PauliOperator(1,['I', 'X', 'X', 'I', 'I','X','X']))\n",
    "pauli_code.push(PauliOperator(1,['X', 'I', 'X', 'I', 'X','I','X']))\n",
    "pauli_code.push(PauliOperator(1,['I', 'I', 'I', 'Z', 'Z','Z','Z']))\n",
    "pauli_code.push(PauliOperator(1,['I', 'Z', 'Z', 'I', 'I','Z','Z']))\n",
    "pauli_code.push(PauliOperator(1,['Z', 'I', 'Z', 'I', 'Z','I','Z']))\n",
    "\n",
    "fermionic_code=css2fermi(pauli_code)\n",
    "print('当前代码是：Majorana code')\n",
    "print('它的纠错距离是：' + str(fermionic_code.get_weight()))\n",
    "print('它的物理比特数是：' + str(fermionic_code.N))\n",
    "print('它的逻辑比特数是：' + str(fermionic_code.N - len(fermionic_code.stabilizers)))\n",
    "print('')"
   ],
   "id": "bf00b064df6d130b",
   "outputs": [
    {
     "name": "stdout",
     "output_type": "stream",
     "text": [
      "当前代码是：Majorana code\n",
      "它的纠错距离是：1\n",
      "它的物理比特数是：7\n",
      "它的逻辑比特数是：1\n",
      "\n"
     ]
    }
   ],
   "execution_count": 2
  }
 ],
 "metadata": {
  "kernelspec": {
   "display_name": "Python 3",
   "language": "python",
   "name": "python3"
  },
  "language_info": {
   "codemirror_mode": {
    "name": "ipython",
    "version": 2
   },
   "file_extension": ".py",
   "mimetype": "text/x-python",
   "name": "python",
   "nbconvert_exporter": "python",
   "pygments_lexer": "ipython2",
   "version": "2.7.6"
  }
 },
 "nbformat": 4,
 "nbformat_minor": 5
}
