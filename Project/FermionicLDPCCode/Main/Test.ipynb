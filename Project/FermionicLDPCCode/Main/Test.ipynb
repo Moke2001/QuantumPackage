{
 "cells": [
  {
   "cell_type": "code",
   "id": "initial_id",
   "metadata": {
    "collapsed": true,
    "ExecuteTime": {
     "end_time": "2025-08-04T15:24:26.262393Z",
     "start_time": "2025-08-04T15:24:25.978781Z"
    }
   },
   "source": [
    "import galois\n",
    "import numpy as np\n",
    "\n",
    "def intersection_basis(A, B):\n",
    "    \"\"\"\n",
    "    计算 GF(2) 上两个向量空间交集的基矢。\n",
    "\n",
    "    参数:\n",
    "        A (list of list): 第一个向量空间的基矢组，每个基矢是二进制列表。\n",
    "        B (list of list): 第二个向量空间的基矢组，每个基矢是二进制列表。\n",
    "\n",
    "    返回:\n",
    "        list of list: 交集的基矢组，每个基矢是二进制列表。\n",
    "    \"\"\"\n",
    "    # 创建 GF(2) 域\n",
    "    GF = galois.GF(2)\n",
    "\n",
    "    # 将输入转换为 galois 矩阵\n",
    "    A_mat = GF(A)\n",
    "    B_mat = GF(B)\n",
    "\n",
    "    m, n = A_mat.shape  # m: A 的基矢数, n: 空间维度\n",
    "    k = B_mat.shape[0]  # k: B 的基矢数\n",
    "\n",
    "    # 构造拼接矩阵 C = [A^T | B^T]\n",
    "    C = np.hstack((A_mat.T, B_mat.T))\n",
    "\n",
    "    # 计算 C 的零空间（返回的矩阵每列是一个基向量）\n",
    "    nullity = C.null_space()\n",
    "    d = nullity.shape[1]  # 零空间维度\n",
    "\n",
    "    # 处理零交集情况\n",
    "    if d == 0:\n",
    "        return []\n",
    "\n",
    "    # 提取前 m 行作为系数矩阵 Y\n",
    "    Y = nullity[:m, :]\n",
    "\n",
    "    # 计算交集生成元 W = A^T * Y\n",
    "    W = A_mat.T @ Y\n",
    "\n",
    "    # 转置得到行向量矩阵 M\n",
    "    M = W.T\n",
    "\n",
    "    # 计算 M 的行空间基\n",
    "    row_basis = M.row_space()\n",
    "\n",
    "    # 转换为列表形式返回\n",
    "    return row_basis.tolist()\n",
    "\n",
    "# 示例用法\n",
    "if __name__ == \"__main__\":\n",
    "    # 示例 1: 零交集\n",
    "    A1 = [[1, 0],\n",
    "          [0, 1]]\n",
    "    B1 = [[1, 1]]\n",
    "    basis1 = intersection_basis(A1, B1)\n",
    "    print(\"交集基矢 (示例1):\", basis1)  # 输出: [[1, 1]]\n",
    "\n",
    "    # 示例 2: 非平凡交集\n",
    "    A2 = [[1, 0, 0],\n",
    "          [1, 1, 0]]\n",
    "    B2 = [[1, 0, 0],\n",
    "          [0, 1, 1]]\n",
    "    basis2 = intersection_basis(A2, B2)\n",
    "    print(\"交集基矢 (示例2):\", basis2)  # 输出: [[1, 0, 0]]\n",
    "\n",
    "    # 示例 3: 更大空间的交集\n",
    "    A3 = [[1, 0, 0, 0],\n",
    "          [0, 1, 0, 0],\n",
    "          [0, 0, 1, 0]]\n",
    "    B3 = [[1, 1, 0, 0],\n",
    "          [0, 1, 1, 0],\n",
    "          [0, 0, 1, 1]]\n",
    "    basis3 = intersection_basis(A3, B3)\n",
    "    print(\"交集基矢 (示例3):\", basis3)  # 可能输出: [[1, 1, 0, 0], [0, 1, 1, 0]]"
   ],
   "outputs": [
    {
     "ename": "ValueError",
     "evalue": "matmul: Input operand 1 has a mismatch in its core dimension 0, with gufunc signature (n?,k),(k,m?)->(n?,m?) (size 1 is different from 2)",
     "output_type": "error",
     "traceback": [
      "\u001B[1;31m---------------------------------------------------------------------------\u001B[0m",
      "\u001B[1;31mValueError\u001B[0m                                Traceback (most recent call last)",
      "Cell \u001B[1;32mIn[6], line 57\u001B[0m\n\u001B[0;32m     54\u001B[0m A1 \u001B[38;5;241m=\u001B[39m [[\u001B[38;5;241m1\u001B[39m, \u001B[38;5;241m0\u001B[39m],\n\u001B[0;32m     55\u001B[0m       [\u001B[38;5;241m0\u001B[39m, \u001B[38;5;241m1\u001B[39m]]\n\u001B[0;32m     56\u001B[0m B1 \u001B[38;5;241m=\u001B[39m [[\u001B[38;5;241m1\u001B[39m, \u001B[38;5;241m1\u001B[39m]]\n\u001B[1;32m---> 57\u001B[0m basis1 \u001B[38;5;241m=\u001B[39m \u001B[43mintersection_basis\u001B[49m\u001B[43m(\u001B[49m\u001B[43mA1\u001B[49m\u001B[43m,\u001B[49m\u001B[43m \u001B[49m\u001B[43mB1\u001B[49m\u001B[43m)\u001B[49m\n\u001B[0;32m     58\u001B[0m \u001B[38;5;28mprint\u001B[39m(\u001B[38;5;124m\"\u001B[39m\u001B[38;5;124m交集基矢 (示例1):\u001B[39m\u001B[38;5;124m\"\u001B[39m, basis1)  \u001B[38;5;66;03m# 输出: [[1, 1]]\u001B[39;00m\n\u001B[0;32m     60\u001B[0m \u001B[38;5;66;03m# 示例 2: 非平凡交集\u001B[39;00m\n",
      "Cell \u001B[1;32mIn[6], line 40\u001B[0m, in \u001B[0;36mintersection_basis\u001B[1;34m(A, B)\u001B[0m\n\u001B[0;32m     37\u001B[0m Y \u001B[38;5;241m=\u001B[39m nullity[:m, :]\n\u001B[0;32m     39\u001B[0m \u001B[38;5;66;03m# 计算交集生成元 W = A^T * Y\u001B[39;00m\n\u001B[1;32m---> 40\u001B[0m W \u001B[38;5;241m=\u001B[39m \u001B[43mA_mat\u001B[49m\u001B[38;5;241;43m.\u001B[39;49m\u001B[43mT\u001B[49m\u001B[43m \u001B[49m\u001B[38;5;241;43m@\u001B[39;49m\u001B[43m \u001B[49m\u001B[43mY\u001B[49m\n\u001B[0;32m     42\u001B[0m \u001B[38;5;66;03m# 转置得到行向量矩阵 M\u001B[39;00m\n\u001B[0;32m     43\u001B[0m M \u001B[38;5;241m=\u001B[39m W\u001B[38;5;241m.\u001B[39mT\n",
      "File \u001B[1;32m~\\AppData\\Local\\Programs\\Python\\Python310\\lib\\site-packages\\galois\\_domains\\_array.py:524\u001B[0m, in \u001B[0;36mArray.__matmul__\u001B[1;34m(self, other)\u001B[0m\n\u001B[0;32m    523\u001B[0m \u001B[38;5;28;01mdef\u001B[39;00m \u001B[38;5;21m__matmul__\u001B[39m(\u001B[38;5;28mself\u001B[39m, other: npt\u001B[38;5;241m.\u001B[39mNDArray) \u001B[38;5;241m-\u001B[39m\u001B[38;5;241m>\u001B[39m Self:\n\u001B[1;32m--> 524\u001B[0m     \u001B[38;5;28;01mreturn\u001B[39;00m \u001B[38;5;28;43msuper\u001B[39;49m\u001B[43m(\u001B[49m\u001B[43m)\u001B[49m\u001B[38;5;241;43m.\u001B[39;49m\u001B[38;5;21;43m__matmul__\u001B[39;49m\u001B[43m(\u001B[49m\u001B[43mother\u001B[49m\u001B[43m)\u001B[49m\n",
      "File \u001B[1;32m~\\AppData\\Local\\Programs\\Python\\Python310\\lib\\site-packages\\galois\\_domains\\_ufunc.py:689\u001B[0m, in \u001B[0;36mUFuncMixin.__array_ufunc__\u001B[1;34m(self, ufunc, method, *inputs, **kwargs)\u001B[0m\n\u001B[0;32m    686\u001B[0m     \u001B[38;5;28;01mif\u001B[39;00m method \u001B[38;5;129;01min\u001B[39;00m [\u001B[38;5;124m\"\u001B[39m\u001B[38;5;124mreduce\u001B[39m\u001B[38;5;124m\"\u001B[39m]:\n\u001B[0;32m    687\u001B[0m         kwargs[\u001B[38;5;124m\"\u001B[39m\u001B[38;5;124mdtype\u001B[39m\u001B[38;5;124m\"\u001B[39m] \u001B[38;5;241m=\u001B[39m field\u001B[38;5;241m.\u001B[39mdtypes[\u001B[38;5;241m-\u001B[39m\u001B[38;5;241m1\u001B[39m]\n\u001B[1;32m--> 689\u001B[0m     \u001B[38;5;28;01mreturn\u001B[39;00m \u001B[38;5;28;43mgetattr\u001B[39;49m\u001B[43m(\u001B[49m\u001B[43mfield\u001B[49m\u001B[43m,\u001B[49m\u001B[43m \u001B[49m\u001B[43mfield\u001B[49m\u001B[38;5;241;43m.\u001B[39;49m\u001B[43m_OVERRIDDEN_UFUNCS\u001B[49m\u001B[43m[\u001B[49m\u001B[43mufunc\u001B[49m\u001B[43m]\u001B[49m\u001B[43m)\u001B[49m\u001B[43m(\u001B[49m\u001B[43mufunc\u001B[49m\u001B[43m,\u001B[49m\u001B[43m \u001B[49m\u001B[43mmethod\u001B[49m\u001B[43m,\u001B[49m\u001B[43m \u001B[49m\u001B[43minputs\u001B[49m\u001B[43m,\u001B[49m\u001B[43m \u001B[49m\u001B[43mkwargs\u001B[49m\u001B[43m,\u001B[49m\u001B[43m \u001B[49m\u001B[43mmeta\u001B[49m\u001B[43m)\u001B[49m\n\u001B[0;32m    691\u001B[0m \u001B[38;5;28;01mif\u001B[39;00m ufunc \u001B[38;5;129;01min\u001B[39;00m field\u001B[38;5;241m.\u001B[39m_UNSUPPORTED_UFUNCS:\n\u001B[0;32m    692\u001B[0m     \u001B[38;5;28;01mraise\u001B[39;00m \u001B[38;5;167;01mNotImplementedError\u001B[39;00m(\n\u001B[0;32m    693\u001B[0m         \u001B[38;5;124mf\u001B[39m\u001B[38;5;124m\"\u001B[39m\u001B[38;5;124mThe NumPy ufunc \u001B[39m\u001B[38;5;132;01m{\u001B[39;00mufunc\u001B[38;5;241m.\u001B[39m\u001B[38;5;18m__name__\u001B[39m\u001B[38;5;132;01m!r}\u001B[39;00m\u001B[38;5;124m is not supported on \u001B[39m\u001B[38;5;132;01m{\u001B[39;00mfield\u001B[38;5;241m.\u001B[39mname\u001B[38;5;132;01m}\u001B[39;00m\u001B[38;5;124m arrays. \u001B[39m\u001B[38;5;124m\"\u001B[39m\n\u001B[0;32m    694\u001B[0m         \u001B[38;5;124m\"\u001B[39m\u001B[38;5;124mIf you believe this ufunc should be supported, \u001B[39m\u001B[38;5;124m\"\u001B[39m\n\u001B[0;32m    695\u001B[0m         \u001B[38;5;124m\"\u001B[39m\u001B[38;5;124mplease submit a GitHub issue at https://github.com/mhostetter/galois/issues.\u001B[39m\u001B[38;5;124m\"\u001B[39m\n\u001B[0;32m    696\u001B[0m     )\n",
      "File \u001B[1;32m~\\AppData\\Local\\Programs\\Python\\Python310\\lib\\site-packages\\galois\\_domains\\_ufunc.py:555\u001B[0m, in \u001B[0;36mmatmul_ufunc.__call__\u001B[1;34m(self, ufunc, method, inputs, kwargs, meta)\u001B[0m\n\u001B[0;32m    553\u001B[0m \u001B[38;5;28;01mdef\u001B[39;00m \u001B[38;5;21m__call__\u001B[39m(\u001B[38;5;28mself\u001B[39m, ufunc, method, inputs, kwargs, meta):\n\u001B[0;32m    554\u001B[0m     \u001B[38;5;28mself\u001B[39m\u001B[38;5;241m.\u001B[39m_verify_method_only_call(ufunc, method)\n\u001B[1;32m--> 555\u001B[0m     \u001B[38;5;28;01mreturn\u001B[39;00m matmul_jit(\u001B[38;5;28mself\u001B[39m\u001B[38;5;241m.\u001B[39mfield)(\u001B[38;5;241m*\u001B[39minputs, \u001B[38;5;241m*\u001B[39m\u001B[38;5;241m*\u001B[39mkwargs)\n",
      "File \u001B[1;32m~\\AppData\\Local\\Programs\\Python\\Python310\\lib\\site-packages\\galois\\_domains\\_linalg.py:191\u001B[0m, in \u001B[0;36mmatmul_jit.__call__\u001B[1;34m(self, A, B, out, **kwargs)\u001B[0m\n\u001B[0;32m    188\u001B[0m dtype \u001B[38;5;241m=\u001B[39m A\u001B[38;5;241m.\u001B[39mdtype\n\u001B[0;32m    190\u001B[0m \u001B[38;5;28;01mif\u001B[39;00m \u001B[38;5;28mself\u001B[39m\u001B[38;5;241m.\u001B[39mfield\u001B[38;5;241m.\u001B[39m_is_prime_field:\n\u001B[1;32m--> 191\u001B[0m     \u001B[38;5;28;01mreturn\u001B[39;00m \u001B[43m_lapack_linalg\u001B[49m\u001B[43m(\u001B[49m\u001B[38;5;28;43mself\u001B[39;49m\u001B[38;5;241;43m.\u001B[39;49m\u001B[43mfield\u001B[49m\u001B[43m,\u001B[49m\u001B[43m \u001B[49m\u001B[43mA\u001B[49m\u001B[43m,\u001B[49m\u001B[43m \u001B[49m\u001B[43mB\u001B[49m\u001B[43m,\u001B[49m\u001B[43m \u001B[49m\u001B[43mnp\u001B[49m\u001B[38;5;241;43m.\u001B[39;49m\u001B[43mmatmul\u001B[49m\u001B[43m,\u001B[49m\u001B[43m \u001B[49m\u001B[43mout\u001B[49m\u001B[38;5;241;43m=\u001B[39;49m\u001B[43mout\u001B[49m\u001B[43m)\u001B[49m\n\u001B[0;32m    193\u001B[0m prepend, append \u001B[38;5;241m=\u001B[39m \u001B[38;5;28;01mFalse\u001B[39;00m, \u001B[38;5;28;01mFalse\u001B[39;00m\n\u001B[0;32m    194\u001B[0m \u001B[38;5;28;01mif\u001B[39;00m A\u001B[38;5;241m.\u001B[39mndim \u001B[38;5;241m==\u001B[39m \u001B[38;5;241m1\u001B[39m:\n",
      "File \u001B[1;32m~\\AppData\\Local\\Programs\\Python\\Python310\\lib\\site-packages\\galois\\_domains\\_linalg.py:52\u001B[0m, in \u001B[0;36m_lapack_linalg\u001B[1;34m(field, a, b, function, out, n_sum)\u001B[0m\n\u001B[0;32m     50\u001B[0m     c \u001B[38;5;241m=\u001B[39m function(a, b)\n\u001B[0;32m     51\u001B[0m \u001B[38;5;28;01melse\u001B[39;00m:\n\u001B[1;32m---> 52\u001B[0m     c \u001B[38;5;241m=\u001B[39m \u001B[43mfunction\u001B[49m\u001B[43m(\u001B[49m\u001B[43ma\u001B[49m\u001B[43m,\u001B[49m\u001B[43m \u001B[49m\u001B[43mb\u001B[49m\u001B[43m,\u001B[49m\u001B[43m \u001B[49m\u001B[43mout\u001B[49m\u001B[38;5;241;43m=\u001B[39;49m\u001B[43mout\u001B[49m\u001B[43m)\u001B[49m\n\u001B[0;32m     53\u001B[0m c \u001B[38;5;241m=\u001B[39m c \u001B[38;5;241m%\u001B[39m field\u001B[38;5;241m.\u001B[39mcharacteristic  \u001B[38;5;66;03m# Reduce the result mod p\u001B[39;00m\n\u001B[0;32m     55\u001B[0m \u001B[38;5;28;01mif\u001B[39;00m np\u001B[38;5;241m.\u001B[39misscalar(c):\n\u001B[0;32m     56\u001B[0m     \u001B[38;5;66;03m# TODO: Sometimes the scalar c is a float?\u001B[39;00m\n",
      "\u001B[1;31mValueError\u001B[0m: matmul: Input operand 1 has a mismatch in its core dimension 0, with gufunc signature (n?,k),(k,m?)->(n?,m?) (size 1 is different from 2)"
     ]
    }
   ],
   "execution_count": 6
  }
 ],
 "metadata": {
  "kernelspec": {
   "display_name": "Python 3",
   "language": "python",
   "name": "python3"
  },
  "language_info": {
   "codemirror_mode": {
    "name": "ipython",
    "version": 2
   },
   "file_extension": ".py",
   "mimetype": "text/x-python",
   "name": "python",
   "nbconvert_exporter": "python",
   "pygments_lexer": "ipython2",
   "version": "2.7.6"
  }
 },
 "nbformat": 4,
 "nbformat_minor": 5
}
